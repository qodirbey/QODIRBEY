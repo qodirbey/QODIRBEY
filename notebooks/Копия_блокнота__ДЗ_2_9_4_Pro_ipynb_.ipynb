{
  "cells": [
    {
      "cell_type": "markdown",
      "metadata": {
        "id": "MH-3kVwvJYeP"
      },
      "source": [
        "# 2.9.4 Форматы файлов, кодировки и сохранение данных. Работа с файлами и каталогами"
      ]
    },
    {
      "cell_type": "markdown",
      "metadata": {
        "id": "gMwyKhlQJ1mf"
      },
      "source": [
        "## Задание 1"
      ]
    },
    {
      "cell_type": "markdown",
      "metadata": {
        "id": "Owu684lKKrjJ"
      },
      "source": [
        "**Условие:**\n",
        "Напишите собственный класс с несколькими атрибутами данных, создайте его экземпляр и запишите данный экземпляр класса в файл с использованием библиотеки ```pickle```. Считайте экземпляр из файла и проверьте его атрибуты.\n",
        "\n"
      ]
    },
    {
      "cell_type": "markdown",
      "metadata": {
        "id": "OCTvo3fHLaaJ"
      },
      "source": [
        "**Решение:**"
      ]
    },
    {
      "cell_type": "code",
      "execution_count": null,
      "metadata": {
        "id": "f9_8IGndLeRO"
      },
      "outputs": [],
      "source": [
        "import pickle\n",
        "\n",
        "class Person:\n",
        "    def __init__(self, name, age, country):\n",
        "        self.name = name\n",
        "        self.age = age\n",
        "        self.country = country\n",
        "\n",
        "# Создаем экземпляр класса Person\n",
        "person = Person(\"Siroj\", 20, \"Uzbekistan\")\n",
        "\n",
        "# Записываем экземпляр в файл с использованием библиотеки pickle\n",
        "with open('person.pickle', 'wb') as file:\n",
        "    pickle.dump(person, file)\n",
        "\n",
        "# Считываем экземпляр из файла\n",
        "with open('person.pickle', 'rb') as file:\n",
        "    loaded_person = pickle.load(file)\n",
        "\n",
        "# Проверяем атрибуты экземпляра\n",
        "print(\"Имя:\", loaded_person.name)\n",
        "print(\"Возраст:\", loaded_person.age)\n",
        "print(\"Страна:\", loaded_person.country)\n"
      ]
    },
    {
      "cell_type": "markdown",
      "metadata": {
        "id": "g5S0h2-wKfGE"
      },
      "source": [
        "## Задание 2"
      ]
    },
    {
      "cell_type": "markdown",
      "metadata": {
        "id": "orX7BUzcPKKf"
      },
      "source": [
        "**Условие:**\n",
        "\n",
        "Методами модуля ```os``` cоставить статистику размера файлов ```*.csv``` папки ```sample_data``` из Google Colab. Составить словарь\n",
        "\n",
        "```\n",
        "size_dict = {'filename.csv':filename_size}\n",
        "```\n",
        "\n",
        "\n",
        "*   ```filename.csv``` - имя файла\n",
        "*   ```filename_size``` - размер файла\n",
        "\n",
        "\n"
      ]
    },
    {
      "cell_type": "markdown",
      "metadata": {
        "id": "ESSLfwqEPKKn"
      },
      "source": [
        "**Решение:**"
      ]
    },
    {
      "cell_type": "code",
      "execution_count": null,
      "metadata": {
        "colab": {
          "base_uri": "https://localhost:8080/"
        },
        "id": "y8HOlaNLPKKq",
        "outputId": "01ee18f3-b586-4d7a-a218-c243a5148db5"
      },
      "outputs": [
        {
          "output_type": "stream",
          "name": "stdout",
          "text": [
            "mnist_train_small.csv: 36523880 байт\n",
            "california_housing_train.csv: 1706430 байт\n",
            "mnist_test.csv: 18289443 байт\n",
            "california_housing_test.csv: 301141 байт\n"
          ]
        }
      ],
      "source": [
        "import os\n",
        "\n",
        "# Путь к папке\n",
        "folder_path = '/content/sample_data'\n",
        "\n",
        "# Получение списка файлов в директории\n",
        "files = os.listdir(folder_path)\n",
        "\n",
        "# Создание словаря для хранения размера файлов\n",
        "file_sizes = {}\n",
        "\n",
        "# Перебор файлов и сохранение их размера в словарь\n",
        "for file in files:\n",
        "    if file.endswith('.csv'):\n",
        "        file_path = os.path.join(folder_path, file)\n",
        "        file_size = os.path.getsize(file_path)\n",
        "        file_sizes[file] = file_size\n",
        "\n",
        "# Вывод словаря с размерами файлов\n",
        "for file, size in file_sizes.items():\n",
        "    print(f'{file}: {size} байт')\n"
      ]
    }
  ],
  "metadata": {
    "colab": {
      "provenance": []
    },
    "kernelspec": {
      "display_name": "Python 3 (ipykernel)",
      "language": "python",
      "name": "python3"
    },
    "language_info": {
      "codemirror_mode": {
        "name": "ipython",
        "version": 3
      },
      "file_extension": ".py",
      "mimetype": "text/x-python",
      "name": "python",
      "nbconvert_exporter": "python",
      "pygments_lexer": "ipython3",
      "version": "3.11.7"
    }
  },
  "nbformat": 4,
  "nbformat_minor": 0
}