{
  "cells": [
    {
      "cell_type": "markdown",
      "metadata": {
        "id": "MH-3kVwvJYeP"
      },
      "source": [
        "\n",
        "# 2.7 Обработка исключений"
      ]
    },
    {
      "cell_type": "markdown",
      "metadata": {
        "id": "Mv3Lt4M3KfxS"
      },
      "source": [
        "## Задание 1"
      ]
    },
    {
      "cell_type": "markdown",
      "metadata": {
        "id": "wdbYgJfkPPCb"
      },
      "source": [
        "**Условие:** С помощью конструкции ```try...except...``` реализуйте перехват исключения при вводе пользователем не числового или нулевого значения в функции подсчета обратного значения числа. Выведите предупреждение с описанием ошибки. Какой тип ошибки перехватывается при вводе не числового значения?\n",
        "\n",
        "**Формат ответа:** Строка (например, ```'IndexError'```)"
      ]
    },
    {
      "cell_type": "markdown",
      "metadata": {
        "id": "bIzgjMPtPPCm"
      },
      "source": [
        "**Решение:**"
      ]
    },
    {
      "cell_type": "code",
      "execution_count": null,
      "metadata": {
        "colab": {
          "base_uri": "https://localhost:8080/"
        },
        "id": "L_j90Z-UPPCt",
        "outputId": "09fba073-531f-4f3e-fcb4-c901201f7a62"
      },
      "outputs": [
        {
          "output_type": "stream",
          "name": "stdout",
          "text": [
            "Введите число: 222\n",
            "Обратное значение вашего числа:  0.0045045045045045045\n",
            "Спасибо за ваш ввод!\n"
          ]
        }
      ],
      "source": [
        "try:\n",
        "    num = float(input(\"Введите число: \"))\n",
        "    print(\"Обратное значение вашего числа: \", 1/num)\n",
        "except ValueError:\n",
        "    print(\"Ошибка! Вы ввели не числовое значение.\")\n",
        "except ZeroDivisionError:\n",
        "    print(\"Ошибка! Вы ввели ноль, а обратное значение нуля не определено.\")\n",
        "finally:\n",
        "    print(\"Спасибо за ваш ввод!\")"
      ]
    },
    {
      "cell_type": "markdown",
      "metadata": {
        "id": "_xCYfSFPnlAy"
      },
      "source": [
        "## Задание 2"
      ]
    },
    {
      "cell_type": "markdown",
      "metadata": {
        "id": "GybRlM7onlA3"
      },
      "source": [
        "**Условие:**\n",
        "Напишите функцию безопасного открытия файла, в которой с помощью конструкции ```try...except...``` реализуется перехват исключения при невозможности открытия файла в случае его отсутствия. Какой тип исключения при этом возникает?\n",
        "\n",
        "**Формат ответа:** Строка (например, ```'IndexError'```)"
      ]
    },
    {
      "cell_type": "markdown",
      "metadata": {
        "id": "MX5hE3funlA6"
      },
      "source": [
        "**Решение:**"
      ]
    },
    {
      "cell_type": "code",
      "execution_count": null,
      "metadata": {
        "colab": {
          "base_uri": "https://localhost:8080/"
        },
        "id": "wof6b39wnlA9",
        "outputId": "fe188725-1abb-40d7-9cc6-f548c9007af4"
      },
      "outputs": [
        {
          "output_type": "stream",
          "name": "stdout",
          "text": [
            "Файл 'example.txt' не найден.\n"
          ]
        }
      ],
      "source": [
        "def safe_open_file(file_path, mode):\n",
        "    try:\n",
        "        file = open(file_path, mode)\n",
        "        return file\n",
        "    except FileNotFoundError:\n",
        "        print(f\"Файл '{file_path}' не найден.\")\n",
        "        return None\n",
        "    except Exception as e:\n",
        "        print(f\"Произошла ошибка при открытии файла '{file_path}': {e}\")\n",
        "        return None\n",
        "\n",
        "\n",
        "file_path = \"example.txt\"\n",
        "mode = \"r\"\n",
        "file = safe_open_file(file_path, mode)\n",
        "if file:\n",
        "    file.close()\n",
        "\n"
      ]
    }
  ],
  "metadata": {
    "colab": {
      "provenance": []
    },
    "kernelspec": {
      "display_name": "Python 3 (ipykernel)",
      "language": "python",
      "name": "python3"
    },
    "language_info": {
      "codemirror_mode": {
        "name": "ipython",
        "version": 3
      },
      "file_extension": ".py",
      "mimetype": "text/x-python",
      "name": "python",
      "nbconvert_exporter": "python",
      "pygments_lexer": "ipython3",
      "version": "3.11.7"
    }
  },
  "nbformat": 4,
  "nbformat_minor": 0
}