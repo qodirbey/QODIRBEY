{
  "cells": [
    {
      "cell_type": "markdown",
      "metadata": {
        "id": "MH-3kVwvJYeP"
      },
      "source": [
        "\n",
        "# 3.2.1 Быстрые поэлементные операции над массивами"
      ]
    },
    {
      "cell_type": "markdown",
      "metadata": {
        "id": "gMwyKhlQJ1mf"
      },
      "source": [
        "## Задание 1"
      ]
    },
    {
      "cell_type": "markdown",
      "metadata": {
        "id": "Owu684lKKrjJ"
      },
      "source": [
        "**Условие:**\n",
        "Создайте два произвольных целочисленных массива ```ndarray``` длины ```10``` и найдите поэлементную сумму их значений. Среди полученных значений найдите максимальное с использованием функции ```np.max()```.\n",
        "\n",
        "**Формат ответа:**\n",
        "Число (например, ```150```)\n"
      ]
    },
    {
      "cell_type": "markdown",
      "metadata": {
        "id": "OCTvo3fHLaaJ"
      },
      "source": [
        "**Решение:**"
      ]
    },
    {
      "cell_type": "code",
      "execution_count": null,
      "metadata": {
        "colab": {
          "base_uri": "https://localhost:8080/"
        },
        "id": "f9_8IGndLeRO",
        "outputId": "d7c43195-7f2d-42b2-b303-083b0e3ace7a"
      },
      "outputs": [
        {
          "output_type": "stream",
          "name": "stdout",
          "text": [
            "Массив 1: [ 4  1  3  9 12 19 15 13  0 31]\n",
            "Массив 2: [ 0  1  3  6  8  1 11 13 17 10]\n",
            "Сумма: [ 4  2  6 15 20 20 26 26 17 41]\n",
            "Максимальное значение: 41\n"
          ]
        }
      ],
      "source": [
        "import numpy as np\n",
        "\n",
        "# Создание двух произвольных целочисленных массивов ndarray длины 10\n",
        "array1 = np.random.randint([5, 10, 15, 20, 25, 30, 35, 40, 45, 50])\n",
        "array2 = np.random.randint([2, 4, 6, 8, 10, 12, 14, 16, 18, 20])\n",
        "\n",
        "# Поэлементная сумма значений двух массивов\n",
        "sum_array = np.add(array1, array2)\n",
        "\n",
        "# Нахождение максимального значения среди полученных значений\n",
        "max_value = np.max(sum_array)\n",
        "\n",
        "print(f'Массив 1: {array1}')\n",
        "print(f'Массив 2: {array2}')\n",
        "print(f'Сумма: {sum_array}')\n",
        "print(f'Максимальное значение: {max_value}')\n"
      ]
    },
    {
      "cell_type": "markdown",
      "metadata": {
        "id": "g5S0h2-wKfGE"
      },
      "source": [
        "## Задание 2"
      ]
    },
    {
      "cell_type": "markdown",
      "metadata": {
        "id": "orX7BUzcPKKf"
      },
      "source": [
        "**Условие:**\n",
        "Создайте произвольный массив ```ndarray``` из 10 элементов типа ```float16```. Присутствие ненулевых дробных частей у элементов обязательно. С использованием методов ```numpy``` отделите дробные части элементов и найдите среди них максимальное значение.\n",
        "\n",
        "**Формат ответа:**\n",
        "Число (например, ```0.82```)\n",
        "\n"
      ]
    },
    {
      "cell_type": "markdown",
      "metadata": {
        "id": "ESSLfwqEPKKn"
      },
      "source": [
        "**Решение:**"
      ]
    },
    {
      "cell_type": "code",
      "execution_count": null,
      "metadata": {
        "colab": {
          "base_uri": "https://localhost:8080/"
        },
        "id": "y8HOlaNLPKKq",
        "outputId": "9b7d6885-13b1-4999-961c-fffa131189ff"
      },
      "outputs": [
        {
          "output_type": "stream",
          "name": "stdout",
          "text": [
            "0.9473\n"
          ]
        }
      ],
      "source": [
        "import numpy as np\n",
        "\n",
        "# Создаем массив ndarray из 10 элементов типа float16\n",
        "array = np.random.rand(10).astype(np.float16)\n",
        "\n",
        "# Отделяем дробные части элементов\n",
        "fractional_parts, _ = np.modf(array)\n",
        "\n",
        "# Находим максимальное значение среди дробных частей\n",
        "max_fractional_part = np.max(fractional_parts)\n",
        "\n",
        "print(max_fractional_part)"
      ]
    },
    {
      "cell_type": "markdown",
      "metadata": {
        "id": "tq0Fcrg1KfXQ"
      },
      "source": [
        "## Задание 3"
      ]
    },
    {
      "cell_type": "markdown",
      "metadata": {
        "id": "3xp-jyyHPMIb"
      },
      "source": [
        "**Условие:**\n",
        "Создайте два произвольных целочисленных массива ```ndarray``` длины ```10``` и найдите количество позиций, в которых значения массивов не совпадают при поэлементном сравнивании.\n",
        "\n",
        "**Формат ответа:**\n",
        "Число (например, ```5```)\n",
        "\n",
        "\n"
      ]
    },
    {
      "cell_type": "markdown",
      "metadata": {
        "id": "H5ZlBsI2PMIi"
      },
      "source": [
        "**Решение:**"
      ]
    },
    {
      "cell_type": "code",
      "execution_count": null,
      "metadata": {
        "colab": {
          "base_uri": "https://localhost:8080/",
          "height": 106
        },
        "id": "6amsYUCoPMIn",
        "outputId": "757883ec-014c-4faf-aeb7-b64a6fd245e2"
      },
      "outputs": [
        {
          "output_type": "error",
          "ename": "SyntaxError",
          "evalue": "incomplete input (<ipython-input-3-867bc74f841d>, line 10)",
          "traceback": [
            "\u001b[0;36m  File \u001b[0;32m\"<ipython-input-3-867bc74f841d>\"\u001b[0;36m, line \u001b[0;32m10\u001b[0m\n\u001b[0;31m    print(unequal_position\u001b[0m\n\u001b[0m                          ^\u001b[0m\n\u001b[0;31mSyntaxError\u001b[0m\u001b[0;31m:\u001b[0m incomplete input\n"
          ]
        }
      ],
      "source": [
        "import numpy as np\n",
        "\n",
        "# Создаем два произвольных целочисленных массива ndarray длины 10\n",
        "array1 = np.random.randint(0, 10, 10)\n",
        "array2 = np.random.randint(0, 10, 10)\n",
        "\n",
        "# Сравниваем массивы поэлементно\n",
        "unequal_positions = np.sum(array1 != array2)\n",
        "\n",
        "print(unequal_position"
      ]
    }
  ],
  "metadata": {
    "colab": {
      "provenance": []
    },
    "kernelspec": {
      "display_name": "Python 3 (ipykernel)",
      "language": "python",
      "name": "python3"
    },
    "language_info": {
      "codemirror_mode": {
        "name": "ipython",
        "version": 3
      },
      "file_extension": ".py",
      "mimetype": "text/x-python",
      "name": "python",
      "nbconvert_exporter": "python",
      "pygments_lexer": "ipython3",
      "version": "3.11.7"
    }
  },
  "nbformat": 4,
  "nbformat_minor": 0
}