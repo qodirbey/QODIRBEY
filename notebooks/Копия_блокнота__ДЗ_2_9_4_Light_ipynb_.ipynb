{
  "cells": [
    {
      "cell_type": "markdown",
      "metadata": {
        "id": "MH-3kVwvJYeP"
      },
      "source": [
        "\n",
        "# 2.9.4 Форматы файлов, кодировки и сохранение данных. Работа с файлами и каталогами"
      ]
    },
    {
      "cell_type": "markdown",
      "metadata": {
        "id": "gMwyKhlQJ1mf"
      },
      "source": [
        "## Задание 1"
      ]
    },
    {
      "cell_type": "markdown",
      "metadata": {
        "id": "Owu684lKKrjJ"
      },
      "source": [
        "**Условие:**\n",
        "Методами модуля ```os``` вывести содержание папки ```sample_data``` из корневой директории Google Colab.\n",
        "\n"
      ]
    },
    {
      "cell_type": "markdown",
      "metadata": {
        "id": "OCTvo3fHLaaJ"
      },
      "source": [
        "**Решение:**"
      ]
    },
    {
      "cell_type": "code",
      "execution_count": null,
      "metadata": {
        "colab": {
          "base_uri": "https://localhost:8080/"
        },
        "id": "f9_8IGndLeRO",
        "outputId": "155c8401-b13f-45aa-efe2-ee6f27110713"
      },
      "outputs": [
        {
          "output_type": "stream",
          "name": "stdout",
          "text": [
            "anscombe.json\n",
            "README.md\n",
            "mnist_train_small.csv\n",
            "california_housing_train.csv\n",
            "mnist_test.csv\n",
            "california_housing_test.csv\n"
          ]
        }
      ],
      "source": [
        "import os\n",
        "\n",
        "# Путь к папке\n",
        "folder_path = '/content/sample_data'\n",
        "\n",
        "# Получение списка файлов и папок в директории\n",
        "files = os.listdir(folder_path)\n",
        "\n",
        "# Вывод списка файлов и папок\n",
        "for file in files:\n",
        "    print(file)\n"
      ]
    },
    {
      "cell_type": "markdown",
      "metadata": {
        "id": "g5S0h2-wKfGE"
      },
      "source": [
        "## Задание 2"
      ]
    },
    {
      "cell_type": "markdown",
      "metadata": {
        "id": "orX7BUzcPKKf"
      },
      "source": [
        "**Условие:**\n",
        "Создайте произвольный словарь из 10 элементов. Сохраните его в файл в формате ```.json```. Считайте данные из полученного файла в новый словарь и пересохраните его в формате ```.pickle```. Из вновь полученного файла считайте данные в новый словарь и сравните его с изначальным словарем.\n",
        "\n"
      ]
    },
    {
      "cell_type": "markdown",
      "metadata": {
        "id": "ESSLfwqEPKKn"
      },
      "source": [
        "**Решение:**"
      ]
    },
    {
      "cell_type": "code",
      "execution_count": null,
      "metadata": {
        "colab": {
          "base_uri": "https://localhost:8080/"
        },
        "id": "y8HOlaNLPKKq",
        "outputId": "5c2672bf-21f0-493e-fc8f-9f96f89bec34"
      },
      "outputs": [
        {
          "output_type": "stream",
          "name": "stdout",
          "text": [
            "Словари идентичны\n"
          ]
        }
      ],
      "source": [
        "import json\n",
        "import pickle\n",
        "\n",
        "# Создание произвольного словаря из 10 элементов\n",
        "original_dict = {f'key{i}': f'value{i}' for i in range(10)}\n",
        "\n",
        "# Сохранение словаря в файл в формате .json\n",
        "with open('dict.json', 'w') as json_file:\n",
        "    json.dump(original_dict, json_file)\n",
        "\n",
        "# Считывание данных из файла .json в новый словарь\n",
        "with open('dict.json', 'r') as json_file:\n",
        "    new_dict = json.load(json_file)\n",
        "\n",
        "# Пересохранение словаря в формате .pickle\n",
        "with open('dict.pickle', 'wb') as pickle_file:\n",
        "    pickle.dump(new_dict, pickle_file)\n",
        "\n",
        "# Считывание данных из файла .pickle в новый словарь\n",
        "with open('dict.pickle', 'rb') as pickle_file:\n",
        "    final_dict = pickle.load(pickle_file)\n",
        "\n",
        "# Сравнение нового словаря с изначальным\n",
        "if original_dict == final_dict:\n",
        "    print(\"Словари идентичны\")\n",
        "else:\n",
        "    print(\"Словари не идентичны\")"
      ]
    }
  ],
  "metadata": {
    "colab": {
      "provenance": []
    },
    "kernelspec": {
      "display_name": "Python 3 (ipykernel)",
      "language": "python",
      "name": "python3"
    },
    "language_info": {
      "codemirror_mode": {
        "name": "ipython",
        "version": 3
      },
      "file_extension": ".py",
      "mimetype": "text/x-python",
      "name": "python",
      "nbconvert_exporter": "python",
      "pygments_lexer": "ipython3",
      "version": "3.11.7"
    }
  },
  "nbformat": 4,
  "nbformat_minor": 0
}