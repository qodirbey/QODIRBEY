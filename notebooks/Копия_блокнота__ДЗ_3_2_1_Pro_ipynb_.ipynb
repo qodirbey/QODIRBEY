{
  "cells": [
    {
      "cell_type": "markdown",
      "metadata": {
        "id": "MH-3kVwvJYeP"
      },
      "source": [
        "\n",
        "# 3.2.1 Быстрые поэлементные операции над массивами"
      ]
    },
    {
      "cell_type": "markdown",
      "metadata": {
        "id": "gMwyKhlQJ1mf"
      },
      "source": [
        "## Задание 1"
      ]
    },
    {
      "cell_type": "markdown",
      "metadata": {
        "id": "Owu684lKKrjJ"
      },
      "source": [
        "**Условие:**\n",
        "Создайте произвольный массив ```ndarray``` из 10 элементов типа ```float16```. Присутствие ненулевых дробных частей у элементов обязательно. С использованием методов ```numpy``` отделите дробные части элементов и найдите их среднее значение.\n",
        "\n",
        "**Формат ответа:**\n",
        "Число (например, ```0.2```)\n"
      ]
    },
    {
      "cell_type": "markdown",
      "metadata": {
        "id": "OCTvo3fHLaaJ"
      },
      "source": [
        "**Решение:**"
      ]
    },
    {
      "cell_type": "code",
      "execution_count": null,
      "metadata": {
        "colab": {
          "base_uri": "https://localhost:8080/"
        },
        "id": "f9_8IGndLeRO",
        "outputId": "114c8a84-893d-4e53-dd7f-dc1a9bc1472e"
      },
      "outputs": [
        {
          "output_type": "stream",
          "name": "stdout",
          "text": [
            "0.4863\n"
          ]
        }
      ],
      "source": [
        "import numpy as np\n",
        "\n",
        "# Создаем произвольный массив ndarray из 10 элементов типа float16\n",
        "array = np.random.rand(10).astype(np.float16)\n",
        "\n",
        "# Присваиваем некоторым элементам ненулевые дробные части\n",
        "array[1] = 1.25\n",
        "array[3] = 2.75\n",
        "array[5] = 3.5\n",
        "array[7] = 4.125\n",
        "array[9] = 5.75\n",
        "\n",
        "# Отделяем дробные части элементов\n",
        "fractional_parts = array - np.floor(array)\n",
        "\n",
        "# Находим среднее значение дробных частей элементов\n",
        "mean_fractional_part = np.mean(fractional_parts)\n",
        "\n",
        "# Выводим среднее значение\n",
        "print(mean_fractional_part)\n"
      ]
    },
    {
      "cell_type": "markdown",
      "metadata": {
        "id": "g5S0h2-wKfGE"
      },
      "source": [
        "## Задание 2"
      ]
    },
    {
      "cell_type": "markdown",
      "metadata": {
        "id": "orX7BUzcPKKf"
      },
      "source": [
        "**Условие:**\n",
        "Создайте два произвольных целочисленных массива ```ndarray``` длины ```10``` и найдите количество позиций, в которых значения первого массива в ```3``` раза больше(не строго) значений второго массива при поэлементном сравнивании.\n",
        "\n",
        "**Формат ответа:**\n",
        "Число (например, ```5```)\n",
        "\n"
      ]
    },
    {
      "cell_type": "markdown",
      "metadata": {
        "id": "ESSLfwqEPKKn"
      },
      "source": [
        "**Решение:**"
      ]
    },
    {
      "cell_type": "code",
      "execution_count": null,
      "metadata": {
        "colab": {
          "base_uri": "https://localhost:8080/"
        },
        "id": "y8HOlaNLPKKq",
        "outputId": "42897dd1-f788-44c0-90e2-43a180708d2b"
      },
      "outputs": [
        {
          "output_type": "stream",
          "name": "stdout",
          "text": [
            "2\n"
          ]
        }
      ],
      "source": [
        "import numpy as np\n",
        "\n",
        "# Создаем два произвольных целочисленных массива длины 10\n",
        "array1 = np.random.randint(0, 10, size=10)\n",
        "array2 = np.random.randint(0, 10, size=10)\n",
        "\n",
        "# Находим количество позиций, в которых значения первого массива в 3 раза больше значений второго массива\n",
        "count = np.sum(array1 >= array2 * 3)\n",
        "\n",
        "# Выводим количество позиций\n",
        "print(count)"
      ]
    },
    {
      "cell_type": "markdown",
      "metadata": {
        "id": "tq0Fcrg1KfXQ"
      },
      "source": [
        "## Задание 3"
      ]
    },
    {
      "cell_type": "markdown",
      "metadata": {
        "id": "3xp-jyyHPMIb"
      },
      "source": [
        "**Условие:**\n",
        "Создайте массив ```ndarray``` длины ```20``` типа ```float16``` и с использованием методов numpy, найдите среднее и среднеквадратическое отклонение **по формулам**(np.mean и np.std можно использовать только для проверки результатов): для массива $\\{x_i\\}$\n",
        "\n",
        "*   $\\mu = \\frac{1}{n}(x_1 + ... x_n) $\n",
        "*   $\\sigma = \\sqrt{\\frac{1}{n}\\sum_{i=1}^{n}(x_i-\\mu)^2}$\n",
        "\n",
        "**Формат ответа:**\n",
        "Кортеж из 2х чисел (например, ```(3.2, 5.1)```)\n",
        "\n"
      ]
    },
    {
      "cell_type": "markdown",
      "metadata": {
        "id": "H5ZlBsI2PMIi"
      },
      "source": [
        "**Решение:**"
      ]
    },
    {
      "cell_type": "code",
      "execution_count": null,
      "metadata": {
        "colab": {
          "base_uri": "https://localhost:8080/"
        },
        "id": "6amsYUCoPMIn",
        "outputId": "5ac3edbf-6bf2-4842-e7ab-fb6e328762f6"
      },
      "outputs": [
        {
          "output_type": "stream",
          "name": "stdout",
          "text": [
            "(0.4921875, 0.2881954902926137)\n"
          ]
        }
      ],
      "source": [
        "import numpy as np\n",
        "\n",
        "# Создаем массив ndarray длины 20 типа float16\n",
        "array = np.random.rand(20).astype(np.float16)\n",
        "\n",
        "# Находим среднее значение и среднеквадратическое отклонение\n",
        "mean_value = np.sum(array) / len(array)\n",
        "std_deviation = np.sqrt(np.sum((array - mean_value) ** 2) / len(array))\n",
        "\n",
        "# Выводим результат в формате кортежа\n",
        "result = (mean_value, std_deviation)\n",
        "print(result)"
      ]
    }
  ],
  "metadata": {
    "colab": {
      "provenance": []
    },
    "kernelspec": {
      "display_name": "Python 3 (ipykernel)",
      "language": "python",
      "name": "python3"
    },
    "language_info": {
      "codemirror_mode": {
        "name": "ipython",
        "version": 3
      },
      "file_extension": ".py",
      "mimetype": "text/x-python",
      "name": "python",
      "nbconvert_exporter": "python",
      "pygments_lexer": "ipython3",
      "version": "3.11.7"
    }
  },
  "nbformat": 4,
  "nbformat_minor": 0
}