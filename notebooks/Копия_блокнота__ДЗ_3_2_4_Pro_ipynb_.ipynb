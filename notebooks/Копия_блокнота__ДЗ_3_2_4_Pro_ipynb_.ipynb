{
  "cells": [
    {
      "cell_type": "markdown",
      "metadata": {
        "id": "MH-3kVwvJYeP"
      },
      "source": [
        "\n",
        "# 3.2.4 Математические и статистические операции"
      ]
    },
    {
      "cell_type": "markdown",
      "metadata": {
        "id": "gMwyKhlQJ1mf"
      },
      "source": [
        "## Задание 1"
      ]
    },
    {
      "cell_type": "markdown",
      "metadata": {
        "id": "Owu684lKKrjJ"
      },
      "source": [
        "**Условие:**\n",
        "Создайте случайный целочисленный массив ```ndarray``` размера ```(15,15)``` элементов, принадлежащих отрезку ```[1,10]```. С помощью методов булевых массивов найдите количество элементов в полученном массиве, которые являются полными квадратами. Используйте ```np.random.seed(1000)``` перед генерацией массива для воспроизводимости результатов.\n",
        "\n",
        "**Формат ответа:**\n",
        "Число (например, ```4```)\n"
      ]
    },
    {
      "cell_type": "markdown",
      "metadata": {
        "id": "OCTvo3fHLaaJ"
      },
      "source": [
        "**Решение:**"
      ]
    },
    {
      "cell_type": "code",
      "execution_count": null,
      "metadata": {
        "colab": {
          "base_uri": "https://localhost:8080/"
        },
        "id": "f9_8IGndLeRO",
        "outputId": "ef65b5a5-59a7-4295-8a01-9d388efeb779"
      },
      "outputs": [
        {
          "output_type": "stream",
          "name": "stdout",
          "text": [
            "Количество полных квадратов в массиве: 70\n"
          ]
        }
      ],
      "source": [
        "import numpy as np\n",
        "\n",
        "# Установка seed для воспроизводимости результатов\n",
        "np.random.seed(1000)\n",
        "\n",
        "# Создание случайного целочисленного массива размера (15,15) с элементами от 1 до 10\n",
        "random_array = np.random.randint(1, 11, size=(15, 15))\n",
        "\n",
        "# Создание булевого массива, где True соответствует полным квадратам\n",
        "is_square = np.sqrt(random_array) % 1 == 0\n",
        "\n",
        "# Подсчет количества полных квадратов\n",
        "count_squares = np.sum(is_square)\n",
        "\n",
        "print(\"Количество полных квадратов в массиве:\", count_squares)\n"
      ]
    },
    {
      "cell_type": "markdown",
      "metadata": {
        "id": "g5S0h2-wKfGE"
      },
      "source": [
        "## Задание 2"
      ]
    },
    {
      "cell_type": "markdown",
      "metadata": {
        "id": "orX7BUzcPKKf"
      },
      "source": [
        "**Условие:**\n",
        "Напишите функцию, которая принимает на вход квадратную матрицу, возводит ее в степень ```100``` и находит ее определитель. Если определитель отличен от нуля, то функция возвращает определитель матрицы, которая является обратной к транспанированной исходной матрице, иначе - ноль. Проверьте работоспособность на матрице, указанной в пункте решение.\n",
        "\n",
        "**Формат ответа:**\n",
        "Число (например, ```2.7```)\n",
        "\n"
      ]
    },
    {
      "cell_type": "markdown",
      "metadata": {
        "id": "ESSLfwqEPKKn"
      },
      "source": [
        "**Решение:**"
      ]
    },
    {
      "cell_type": "code",
      "execution_count": null,
      "metadata": {
        "id": "y8HOlaNLPKKq"
      },
      "outputs": [],
      "source": [
        "_INPUT_MATR_ = np.array([[2,5,7],\n",
        "                        [6,3,4],\n",
        "                        [5,-2,-3]])\n",
        "import numpy as np\n",
        "\n",
        "def matrix_function(matrix):\n",
        "    # Возводим матрицу в степень 100\n",
        "    matrix_powered = np.linalg.matrix_power(matrix, 100)\n",
        "\n",
        "    # Находим определитель\n",
        "    det = np.linalg.det(matrix_powered)\n",
        "\n",
        "    if det != 0:\n",
        "        # Находим обратную матрицу к транспанированной исходной матрице\n",
        "        inverse_transposed = np.linalg.inv(matrix.T)\n",
        "\n",
        "        # Возвращаем определитель обратной матрицы\n",
        "        return np.linalg.det(inverse_transposed)\n",
        "    else:\n",
        "        return 0\n"
      ]
    },
    {
      "cell_type": "markdown",
      "metadata": {
        "id": "tq0Fcrg1KfXQ"
      },
      "source": [
        "## Задание 3"
      ]
    },
    {
      "cell_type": "markdown",
      "metadata": {
        "id": "3xp-jyyHPMIb"
      },
      "source": [
        "**Условие:**\n",
        "Создайте два случайных массива длины ```100```, первый из которых является выборкой из нормального распределения, а второй - равномерного распределения на полуинтервале ```[0,1)```. Найдите абсолютные значения разности средних и среднеквадратических отклонений у полученных массивов.\n",
        "\n",
        "**Формат ответа:**\n",
        "Кортеж чисел (например, ```(2.7, 0.0)```)\n",
        "\n",
        "\n"
      ]
    },
    {
      "cell_type": "markdown",
      "metadata": {
        "id": "H5ZlBsI2PMIi"
      },
      "source": [
        "**Решение:**"
      ]
    },
    {
      "cell_type": "code",
      "execution_count": null,
      "metadata": {
        "colab": {
          "base_uri": "https://localhost:8080/"
        },
        "id": "6amsYUCoPMIn",
        "outputId": "d3a86f81-09bf-4ddb-d655-d5989b92c1f9"
      },
      "outputs": [
        {
          "output_type": "stream",
          "name": "stdout",
          "text": [
            "Абсолютное значение разности средних: 0.4217422212730742\n",
            "Абсолютное значение разности среднеквадратических отклонений: 0.7258934713780913\n"
          ]
        }
      ],
      "source": [
        "import numpy as np\n",
        "\n",
        "# Устанавливаем seed для воспроизводимости результатов\n",
        "np.random.seed(1000)\n",
        "\n",
        "# Создаем два случайных массива длины 100\n",
        "normal_array = np.random.normal(size=100)\n",
        "uniform_array = np.random.uniform(0, 1, size=100)\n",
        "\n",
        "# Находим средние значения и среднеквадратические отклонения\n",
        "mean_normal, std_normal = np.mean(normal_array), np.std(normal_array)\n",
        "mean_uniform, std_uniform = np.mean(uniform_array), np.std(uniform_array)\n",
        "\n",
        "# Находим абсолютные значения разности средних и среднеквадратических отклонений\n",
        "diff_mean = abs(mean_normal - mean_uniform)\n",
        "diff_std = abs(std_normal - std_uniform)\n",
        "\n",
        "print(f'Абсолютное значение разности средних: {diff_mean}')\n",
        "print(f'Абсолютное значение разности среднеквадратических отклонений: {diff_std}')\n"
      ]
    }
  ],
  "metadata": {
    "colab": {
      "provenance": []
    },
    "kernelspec": {
      "display_name": "Python 3 (ipykernel)",
      "language": "python",
      "name": "python3"
    },
    "language_info": {
      "codemirror_mode": {
        "name": "ipython",
        "version": 3
      },
      "file_extension": ".py",
      "mimetype": "text/x-python",
      "name": "python",
      "nbconvert_exporter": "python",
      "pygments_lexer": "ipython3",
      "version": "3.11.7"
    }
  },
  "nbformat": 4,
  "nbformat_minor": 0
}