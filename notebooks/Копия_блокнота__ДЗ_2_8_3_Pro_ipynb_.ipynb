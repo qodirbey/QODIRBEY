{
  "cells": [
    {
      "cell_type": "markdown",
      "metadata": {
        "id": "MH-3kVwvJYeP"
      },
      "source": [
        "# 2.8.3 Объектно-ориентированное программирование как ключевой элемент языка Python"
      ]
    },
    {
      "cell_type": "markdown",
      "metadata": {
        "id": "WS0TXJkOD_Q6"
      },
      "source": [
        "## Задание 1"
      ]
    },
    {
      "cell_type": "markdown",
      "metadata": {
        "id": "vnaW1OUnD_RA"
      },
      "source": [
        "**Условие:** Для класса ```Department``` из задания к занятию 2.8.2 установите все родительские классы. Установите к каким классам относятся атрибуты данных и методы указанного класса.\n"
      ]
    },
    {
      "cell_type": "markdown",
      "metadata": {
        "id": "fgXudiR7D_RC"
      },
      "source": [
        "**Решение:**"
      ]
    },
    {
      "cell_type": "code",
      "execution_count": null,
      "metadata": {
        "colab": {
          "base_uri": "https://localhost:8080/"
        },
        "id": "d3EG8Yu9D_RF",
        "outputId": "27d1c037-6038-4f34-ae4d-c9fde32c8296"
      },
      "outputs": [
        {
          "output_type": "stream",
          "name": "stdout",
          "text": [
            "<class 'object'>\n"
          ]
        }
      ],
      "source": [
        "class Department:\n",
        "    def __init__(self, name, job, pay):\n",
        "        self.name = name\n",
        "        self.job = job\n",
        "        self.pay = pay\n",
        "\n",
        "    def person_raise(self, prcnt):\n",
        "        self.pay += self.pay * prcnt / 100\n",
        "\n",
        "worker = Department(\"Иванов\", \"менеджер\", 150)\n",
        "\n",
        "parent_classes = type(worker).__bases__\n",
        "\n",
        "for parent_class in parent_classes:\n",
        "    print(parent_class)"
      ]
    }
  ],
  "metadata": {
    "colab": {
      "provenance": []
    },
    "kernelspec": {
      "display_name": "Python 3 (ipykernel)",
      "language": "python",
      "name": "python3"
    },
    "language_info": {
      "codemirror_mode": {
        "name": "ipython",
        "version": 3
      },
      "file_extension": ".py",
      "mimetype": "text/x-python",
      "name": "python",
      "nbconvert_exporter": "python",
      "pygments_lexer": "ipython3",
      "version": "3.11.7"
    }
  },
  "nbformat": 4,
  "nbformat_minor": 0
}