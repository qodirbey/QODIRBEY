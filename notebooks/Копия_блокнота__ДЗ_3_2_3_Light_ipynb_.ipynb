{
  "cells": [
    {
      "cell_type": "markdown",
      "metadata": {
        "id": "MH-3kVwvJYeP"
      },
      "source": [
        "\n",
        "# 3.2.3 Уход от циклов: обработка данных с применением массивов"
      ]
    },
    {
      "cell_type": "markdown",
      "metadata": {
        "id": "gMwyKhlQJ1mf"
      },
      "source": [
        "## Задание 1"
      ]
    },
    {
      "cell_type": "markdown",
      "metadata": {
        "id": "Owu684lKKrjJ"
      },
      "source": [
        "**Условие:**\n",
        "Создайте случайный целочисленный массив ```ndarray``` из ```12``` элементов, принадлежащих отрезку ```[0,10]```. Сделайте две матрицы размера ```(3,4)``` с порядком следования элементов в стиле С и Fortran. Найдите поэлементное произведение этих матриц, а после - максимальный элемент в полученной матрице. Используйте ```np.random.seed(1000)``` перед генерацией массива для воспроизводимости результатов.\n",
        "\n",
        "**Формат ответа:**\n",
        "Число (например, ```25```)\n",
        "\n"
      ]
    },
    {
      "cell_type": "markdown",
      "metadata": {
        "id": "OCTvo3fHLaaJ"
      },
      "source": [
        "**Решение:**"
      ]
    },
    {
      "cell_type": "code",
      "execution_count": null,
      "metadata": {
        "colab": {
          "base_uri": "https://localhost:8080/"
        },
        "id": "f9_8IGndLeRO",
        "outputId": "95257b60-bf21-4332-954b-3d167eca7e6e"
      },
      "outputs": [
        {
          "output_type": "stream",
          "name": "stdout",
          "text": [
            "Матрица C:\n",
            "[[ 3  7  7  0]\n",
            " [ 1  0  9  8]\n",
            " [ 9  4 10 10]]\n",
            "Матрица F:\n",
            "[[ 3  0  9  4]\n",
            " [ 7  1  8 10]\n",
            " [ 7  0  9 10]]\n",
            "Поэлементное произведение:\n",
            "[[  9   0  63   0]\n",
            " [  7   0  72  80]\n",
            " [ 63   0  90 100]]\n",
            "Максимальный элемент: 100\n"
          ]
        }
      ],
      "source": [
        "import numpy as np\n",
        "\n",
        "# Устанавливаем seed для воспроизводимости результатов\n",
        "np.random.seed(1000)\n",
        "\n",
        "# Создаем случайный целочисленный массив ndarray из 12 элементов, принадлежащих отрезку [0,10]\n",
        "arr = np.random.randint(0, 11, 12)\n",
        "\n",
        "# Создаем две матрицы размера (3,4) с порядком следования элементов в стиле С и Fortran\n",
        "matrix_c = arr.reshape((3, 4), order='C')\n",
        "matrix_f = arr.reshape((3, 4), order='F')\n",
        "\n",
        "# Находим поэлементное произведение этих матриц\n",
        "product = np.multiply(matrix_c, matrix_f)\n",
        "\n",
        "# Находим максимальный элемент в полученной матрице\n",
        "max_element = np.max(product)\n",
        "\n",
        "print(f\"Матрица C:\\n{matrix_c}\")\n",
        "print(f\"Матрица F:\\n{matrix_f}\")\n",
        "print(f\"Поэлементное произведение:\\n{product}\")\n",
        "print(f\"Максимальный элемент: {max_element}\")"
      ]
    },
    {
      "cell_type": "markdown",
      "metadata": {
        "id": "g5S0h2-wKfGE"
      },
      "source": [
        "## Задание 2"
      ]
    },
    {
      "cell_type": "markdown",
      "metadata": {
        "id": "orX7BUzcPKKf"
      },
      "source": [
        "**Условие:**\n",
        "Создайте ```3``` случайных целочисленных массива ```ndarray``` размера ```(10,10)``` элементов, принадлежащих отрезку ```[0,10]```. Сделайте из данных массивов один трехмерный массив. Найдя размер полученного массива, вычислите количество элементов в нем. Используйте ```np.random.seed(1000)``` перед генерацией массива для воспроизводимости результатов.\n",
        "\n",
        "**Формат ответа:**\n",
        "Число (например, ```56```)\n"
      ]
    },
    {
      "cell_type": "markdown",
      "metadata": {
        "id": "ESSLfwqEPKKn"
      },
      "source": [
        "**Решение:**"
      ]
    },
    {
      "cell_type": "code",
      "execution_count": null,
      "metadata": {
        "colab": {
          "base_uri": "https://localhost:8080/"
        },
        "id": "y8HOlaNLPKKq",
        "outputId": "3c58084b-52e7-40d2-c058-7a1f93eb8669"
      },
      "outputs": [
        {
          "output_type": "stream",
          "name": "stdout",
          "text": [
            "300\n"
          ]
        }
      ],
      "source": [
        "import numpy as np\n",
        "\n",
        "np.random.seed(1000)  # Задаем seed для воспроизводимости\n",
        "\n",
        "# Создаем 3 случайных целочисленных массива размера (10, 10) из элементов от 0 до 10\n",
        "arr1 = np.random.randint(0, 11, size=(10, 10))\n",
        "arr2 = np.random.randint(0, 11, size=(10, 10))\n",
        "arr3 = np.random.randint(0, 11, size=(10, 10))\n",
        "\n",
        "# Объединяем данные массивы в трехмерный массив\n",
        "array_3d = np.stack([arr1, arr2, arr3])\n",
        "\n",
        "# Находим размер полученного массива\n",
        "array_size = array_3d.shape\n",
        "\n",
        "# Вычисляем количество элементов в массиве\n",
        "num_elements = np.prod(array_size)\n",
        "\n",
        "print(num_elements)"
      ]
    },
    {
      "cell_type": "markdown",
      "metadata": {
        "id": "tq0Fcrg1KfXQ"
      },
      "source": [
        "## Задание 3"
      ]
    },
    {
      "cell_type": "markdown",
      "metadata": {
        "id": "3xp-jyyHPMIb"
      },
      "source": [
        "**Условие:**\n",
        "С использование методов ```ndarray``` сформируйте массив размера ```(20,2)```, в первом столбце которого идут целые числа, начиная с ```1```,а во втором - первые 20 нечетных чисел, начиная с ```3```. Найдите среднее значение второго столбца.\n",
        "\n",
        "**Формат ответа:**\n",
        "Число (например, ```34```)\n",
        "\n"
      ]
    },
    {
      "cell_type": "markdown",
      "metadata": {
        "id": "H5ZlBsI2PMIi"
      },
      "source": [
        "**Решение:**"
      ]
    },
    {
      "cell_type": "code",
      "execution_count": null,
      "metadata": {
        "colab": {
          "base_uri": "https://localhost:8080/"
        },
        "id": "6amsYUCoPMIn",
        "outputId": "eff93271-0c81-4eaa-d8e3-ef59e328f50d"
      },
      "outputs": [
        {
          "output_type": "stream",
          "name": "stdout",
          "text": [
            "Массив:\n",
            "[[ 1.  3.]\n",
            " [ 2.  5.]\n",
            " [ 3.  7.]\n",
            " [ 4.  9.]\n",
            " [ 5. 11.]\n",
            " [ 6. 13.]\n",
            " [ 7. 15.]\n",
            " [ 8. 17.]\n",
            " [ 9. 19.]\n",
            " [10. 21.]\n",
            " [11. 23.]\n",
            " [12. 25.]\n",
            " [13. 27.]\n",
            " [14. 29.]\n",
            " [15. 31.]\n",
            " [16. 33.]\n",
            " [17. 35.]\n",
            " [18. 37.]\n",
            " [19. 39.]\n",
            " [20. 41.]]\n",
            "Среднее значение второго столбца: 22.0\n"
          ]
        }
      ],
      "source": [
        "import numpy as np\n",
        "\n",
        "# Создаем массив размера (20,2)\n",
        "arr = np.zeros((20, 2))\n",
        "\n",
        "# В первом столбце идут целые числа, начиная с 1\n",
        "arr[:, 0] = np.arange(1, 21)\n",
        "\n",
        "# Во втором столбце - первые 20 нечетных чисел, начиная с 3\n",
        "arr[:, 1] = np.arange(3, 43, 2)\n",
        "\n",
        "# Находим среднее значение второго столбца\n",
        "mean = np.mean(arr[:, 1])\n",
        "\n",
        "print(f\"Массив:\\n{arr}\")\n",
        "print(f\"Среднее значение второго столбца: {mean}\")"
      ]
    }
  ],
  "metadata": {
    "colab": {
      "provenance": []
    },
    "kernelspec": {
      "display_name": "Python 3 (ipykernel)",
      "language": "python",
      "name": "python3"
    },
    "language_info": {
      "codemirror_mode": {
        "name": "ipython",
        "version": 3
      },
      "file_extension": ".py",
      "mimetype": "text/x-python",
      "name": "python",
      "nbconvert_exporter": "python",
      "pygments_lexer": "ipython3",
      "version": "3.11.7"
    }
  },
  "nbformat": 4,
  "nbformat_minor": 0
}