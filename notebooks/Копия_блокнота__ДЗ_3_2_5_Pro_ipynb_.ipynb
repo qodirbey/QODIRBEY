{
  "cells": [
    {
      "cell_type": "markdown",
      "metadata": {
        "id": "MH-3kVwvJYeP"
      },
      "source": [
        "\n",
        "# 3.2.5 Файловый ввод-вывод массивов"
      ]
    },
    {
      "cell_type": "markdown",
      "metadata": {
        "id": "gMwyKhlQJ1mf"
      },
      "source": [
        "## Задание 1"
      ]
    },
    {
      "cell_type": "markdown",
      "metadata": {
        "id": "Owu684lKKrjJ"
      },
      "source": [
        "**Условие:**\n",
        "Создайте массив ```ndarray``` размера ```(15,15)``` элементов, взятых из стандартного нормального распределения. Запишите данный массив в файл в бинарном виде. Считайте массив из файла, с использованием целочисленного типа данных. Найдите абсолютное значение разности сумм элементов исходного массива и считанного из файла. Используйте ```np.random.seed(1000)``` перед генерацией массива для воспроизводимости результатов.\n",
        "\n",
        "**Формат ответа:**\n",
        "Число (например, ```102.4```)\n",
        "\n"
      ]
    },
    {
      "cell_type": "markdown",
      "metadata": {
        "id": "OCTvo3fHLaaJ"
      },
      "source": [
        "**Решение:**"
      ]
    },
    {
      "cell_type": "code",
      "execution_count": null,
      "metadata": {
        "colab": {
          "base_uri": "https://localhost:8080/"
        },
        "id": "f9_8IGndLeRO",
        "outputId": "07b8cbec-3e65-4b31-8989-83b617471f8e"
      },
      "outputs": [
        {
          "output_type": "stream",
          "name": "stdout",
          "text": [
            "Абсолютное значение разности сумм элементов исходного массива и считанного из файла: 7.095754687581042\n"
          ]
        }
      ],
      "source": [
        "import numpy as np\n",
        "\n",
        "# Устанавливаем seed для воспроизводимости результатов\n",
        "np.random.seed(1000)\n",
        "\n",
        "# Создаем массив ndarray размера (15,15) элементов, взятых из стандартного нормального распределения\n",
        "array = np.random.standard_normal((15, 15))\n",
        "\n",
        "# Записываем массив в файл в бинарном виде\n",
        "with open('binary_file', 'wb') as f:\n",
        "    np.save(f, array)\n",
        "\n",
        "# Считываем массив из файла, с использованием целочисленного типа данных\n",
        "with open('binary_file', 'rb') as f:\n",
        "    loaded_array = np.load(f).astype(int)\n",
        "\n",
        "# Находим абсолютное значение разности сумм элементов исходного массива и считанного из файла\n",
        "diff_sum = abs(np.sum(array) - np.sum(loaded_array))\n",
        "\n",
        "print(f'Абсолютное значение разности сумм элементов исходного массива и считанного из файла: {diff_sum}')"
      ]
    },
    {
      "cell_type": "markdown",
      "metadata": {
        "id": "g5S0h2-wKfGE"
      },
      "source": [
        "## Задание 2"
      ]
    },
    {
      "cell_type": "markdown",
      "metadata": {
        "id": "orX7BUzcPKKf"
      },
      "source": [
        "**Условие:**\n",
        "Создайте массив ```ndarray``` размера ```100```, взятых из стандартного нормального распределения. Запишите данный массив в файл в бинарном виде с использованием функций ```np.save()``` и ```np.savez_compressed()```. Найдите абсолютное значение разности байтовых размеров полученных файлов. Используйте ```np.random.seed(1000)``` перед генерацией массива для воспроизводимости результатов.\n",
        "\n",
        "**Формат ответа:**\n",
        "Число (например, ```45```)\n"
      ]
    },
    {
      "cell_type": "markdown",
      "metadata": {
        "id": "ESSLfwqEPKKn"
      },
      "source": [
        "**Решение:**"
      ]
    },
    {
      "cell_type": "code",
      "execution_count": null,
      "metadata": {
        "colab": {
          "base_uri": "https://localhost:8080/"
        },
        "id": "y8HOlaNLPKKq",
        "outputId": "1460aa2f-1b59-4714-8f18-6a966b8ca78f"
      },
      "outputs": [
        {
          "output_type": "stream",
          "name": "stdout",
          "text": [
            "Абсолютное значение разности байтовых размеров полученных файлов: 0\n"
          ]
        }
      ],
      "source": [
        "import numpy as np\n",
        "\n",
        "# Установка seed для воспроизводимости результатов\n",
        "np.random.seed(1000)\n",
        "\n",
        "# Создание массива размера 100 из элементов стандартного нормального распределения\n",
        "data_array = np.random.randn(100)\n",
        "\n",
        "# Запись массива в файл в бинарном виде с использованием np.save()\n",
        "np.save('array_saved.npy', data_array)\n",
        "\n",
        "# Запись массива в файл в бинарном виде с использованием np.savez_compressed()\n",
        "np.savez_compressed('array_saved_compressed.npz', data_array=data_array)\n",
        "\n",
        "# Нахождение размеров файлов\n",
        "size_saved = np.array(np.load('array_saved.npy')).nbytes\n",
        "size_saved_compressed = np.array(np.load('array_saved_compressed.npz')['data_array']).nbytes\n",
        "\n",
        "# Нахождение абсолютного значения разности байтовых размеров полученных файлов\n",
        "diff_size = np.abs(size_saved - size_saved_compressed)\n",
        "\n",
        "print(\"Абсолютное значение разности байтовых размеров полученных файлов:\", diff_size)\n"
      ]
    }
  ],
  "metadata": {
    "colab": {
      "provenance": []
    },
    "kernelspec": {
      "display_name": "Python 3 (ipykernel)",
      "language": "python",
      "name": "python3"
    },
    "language_info": {
      "codemirror_mode": {
        "name": "ipython",
        "version": 3
      },
      "file_extension": ".py",
      "mimetype": "text/x-python",
      "name": "python",
      "nbconvert_exporter": "python",
      "pygments_lexer": "ipython3",
      "version": "3.11.7"
    }
  },
  "nbformat": 4,
  "nbformat_minor": 0
}