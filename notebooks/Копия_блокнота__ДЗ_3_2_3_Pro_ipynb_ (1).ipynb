{
  "cells": [
    {
      "cell_type": "markdown",
      "metadata": {
        "id": "MH-3kVwvJYeP"
      },
      "source": [
        "\n",
        "# 3.2.3 Уход от циклов: обработка данных с применением массивов"
      ]
    },
    {
      "cell_type": "markdown",
      "metadata": {
        "id": "gMwyKhlQJ1mf"
      },
      "source": [
        "## Задание 1"
      ]
    },
    {
      "cell_type": "markdown",
      "metadata": {
        "id": "Owu684lKKrjJ"
      },
      "source": [
        "**Условие:**\n",
        "Создайте ```3``` случайных целочисленных массива ```ndarray``` размера ```(10,10)``` элементов, принадлежащих отрезку ```[0,10]```. Сделайте из данных массивов один трехмерный массив. Вычтите поэлементно первую матрицу из полученного трехмерного массива методом укладывания. Найдите наибольший элемент в полученном массиве. Используйте ```np.random.seed(1000)``` перед генерацией массива для воспроизводимости результатов.\n",
        "\n",
        "**Формат ответа:**\n",
        "Число (например, ```4```)\n",
        "\n"
      ]
    },
    {
      "cell_type": "markdown",
      "metadata": {
        "id": "OCTvo3fHLaaJ"
      },
      "source": [
        "**Решение:**"
      ]
    },
    {
      "cell_type": "code",
      "execution_count": null,
      "metadata": {
        "id": "f9_8IGndLeRO"
      },
      "outputs": [],
      "source": [
        "import numpy as np\n",
        "\n",
        "np.random.seed(1000)\n",
        "\n",
        "# Создание трех случайных массивов ndarray\n",
        "array1 = np.random.randint(0, 11, (10, 10))\n",
        "array2 = np.random.randint(0, 11, (10, 10))\n",
        "array3 = np.random.randint(0, 11, (10, 10))\n",
        "\n",
        "# Создание трехмерного массива из данных массивов\n",
        "three_dim_array = np.array([array1, array2, array3])\n",
        "\n",
        "# Вычитание поэлементно первой матрицы из трехмерного массива\n",
        "result_array = three_dim_array - array1\n",
        "\n",
        "# Нахождение наибольшего элемента в полученном массиве\n",
        "max_element = np.max(result_array)\n",
        "\n",
        "max_element"
      ]
    },
    {
      "cell_type": "markdown",
      "metadata": {
        "id": "g5S0h2-wKfGE"
      },
      "source": [
        "## Задание 2"
      ]
    },
    {
      "cell_type": "markdown",
      "metadata": {
        "id": "orX7BUzcPKKf"
      },
      "source": [
        "**Условие:**\n",
        "Создайте случайный целочисленный массив ```ndarray``` размера ```(10,10)``` элементов, принадлежащих отрезку ```[0,10]```. С помощью методов ```np.mean()``` и ```np.std()``` центрируйте и нормируйте элементы в столбцах. Найдите разброс полученных значений в полученной матрице. Используйте ```np.random.seed(1000)``` перед генерацией массива для воспроизводимости результатов.\n",
        "\n",
        "**Формат ответа:**\n",
        "Кортеж чисел (например, ```(-0.45,0.89)```)\n",
        "\n"
      ]
    },
    {
      "cell_type": "markdown",
      "metadata": {
        "id": "ESSLfwqEPKKn"
      },
      "source": [
        "**Решение:**"
      ]
    },
    {
      "cell_type": "code",
      "execution_count": null,
      "metadata": {
        "colab": {
          "base_uri": "https://localhost:8080/"
        },
        "id": "y8HOlaNLPKKq",
        "outputId": "26cb2000-cfa2-4ff0-b960-fba191c7aa6b"
      },
      "outputs": [
        {
          "output_type": "stream",
          "name": "stdout",
          "text": [
            "(2.5542034272564034, 3.75)\n"
          ]
        }
      ],
      "source": [
        "import numpy as np\n",
        "\n",
        "\n",
        "np.random.seed(1000)  # Задаем seed для воспроизводимости\n",
        "arr = np.random.randint(0, 11, size=(10, 10))  # Создаем случайный массив (10, 10) от 0 до 10\n",
        "\n",
        "\n",
        "# Центрирование и нормировка элементов в столбцах\n",
        "centered_normalized_arr = (arr - np.mean(arr, axis=0)) / np.std(arr, axis=0)\n",
        "\n",
        "\n",
        "# Вычисляем разброс полученных значений\n",
        "ptp_values = np.ptp(centered_normalized_arr, axis=0)\n",
        "\n",
        "\n",
        "result = (ptp_values.min(), ptp_values.max())\n",
        "print(result)"
      ]
    }
  ],
  "metadata": {
    "colab": {
      "provenance": []
    },
    "kernelspec": {
      "display_name": "Python 3 (ipykernel)",
      "language": "python",
      "name": "python3"
    },
    "language_info": {
      "codemirror_mode": {
        "name": "ipython",
        "version": 3
      },
      "file_extension": ".py",
      "mimetype": "text/x-python",
      "name": "python",
      "nbconvert_exporter": "python",
      "pygments_lexer": "ipython3",
      "version": "3.11.7"
    }
  },
  "nbformat": 4,
  "nbformat_minor": 0
}