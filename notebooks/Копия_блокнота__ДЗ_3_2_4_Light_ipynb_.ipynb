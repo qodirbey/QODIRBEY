{
  "cells": [
    {
      "cell_type": "markdown",
      "metadata": {
        "id": "MH-3kVwvJYeP"
      },
      "source": [
        "\n",
        "# 3.2.4 Математические и статистические операции"
      ]
    },
    {
      "cell_type": "markdown",
      "metadata": {
        "id": "gMwyKhlQJ1mf"
      },
      "source": [
        "## Задание 1"
      ]
    },
    {
      "cell_type": "markdown",
      "metadata": {
        "id": "Owu684lKKrjJ"
      },
      "source": [
        "**Условие:**\n",
        "Создайте случайный целочисленный массив ```ndarray``` размера ```(10,10)``` элементов, принадлежащих отрезку ```[0,10]```. С помощью методов ```np.mean()``` и ```np.std()``` центрируйте и нормируйте элементы в столбцах. Найдите разброс полученных значений в полученной матрице. Используйте ```np.random.seed(1000)``` перед генерацией массива для воспроизводимости результатов.\n",
        "\n",
        "**Формат ответа:**\n",
        "Кортеж чисел (например, ```(-0.45,0.89)```)\n",
        "\n"
      ]
    },
    {
      "cell_type": "markdown",
      "metadata": {
        "id": "OCTvo3fHLaaJ"
      },
      "source": [
        "**Решение:**"
      ]
    },
    {
      "cell_type": "code",
      "execution_count": null,
      "metadata": {
        "colab": {
          "base_uri": "https://localhost:8080/"
        },
        "id": "f9_8IGndLeRO",
        "outputId": "53c834a7-7c7c-4abe-c4cc-ae37d137ee71"
      },
      "outputs": [
        {
          "output_type": "stream",
          "name": "stdout",
          "text": [
            "Normalized array:\n",
            " [[-0.50495552  0.04944682  0.55945325 -2.         -1.92506684 -0.86204366\n",
            "   1.44148324  0.89950042  1.62229492 -0.4472136 ]\n",
            " [ 1.70422489  1.53285135  1.09226586 -0.33333333 -0.5500191  -0.2234928\n",
            "   1.44148324  0.89950042 -0.84641474 -0.4472136 ]\n",
            " [-0.82055272 -0.93948954  1.35867217  0.08333333 -0.5500191  -0.86204366\n",
            "  -0.31642315 -1.0993894   0.21160368  1.34164079]\n",
            " [-0.18935832  0.04944682 -1.30539091 -0.33333333  0.82502865 -0.54276823\n",
            "  -1.72274826 -1.0993894  -1.19908755  0.4472136 ]\n",
            " [-1.13614993 -0.93948954  0.29304694  0.08333333  0.82502865  1.69215977\n",
            "   1.08990196 -1.0993894  -0.84641474  1.04349839]\n",
            " [ 0.44183608  1.53285135  1.35867217 -0.75       -1.00836835  1.05360891\n",
            "   0.03515813  0.89950042 -0.14106912 -1.34164079]\n",
            " [-1.45174713  1.03838317 -1.0389846   1.33333333  1.2833779  -0.86204366\n",
            "  -1.0195857   1.23264872 -0.49374193  1.34164079]\n",
            " [ 1.38862769 -0.44502136 -0.77257829  1.75       -0.09166985  1.69215977\n",
            "   0.03515813  0.23320381  1.62229492  0.1490712 ]\n",
            " [ 0.75743328 -0.44502136 -0.50617198 -0.33333333  1.2833779  -0.54276823\n",
            "  -0.66800443  0.56635211 -0.84641474 -1.63978318]\n",
            " [-0.18935832 -1.43395771 -1.0389846   0.5        -0.09166985 -0.54276823\n",
            "  -0.31642315 -1.4325377   0.9169493  -0.4472136 ]]\n",
            "Range of values in the normalized array: 3.75\n"
          ]
        }
      ],
      "source": [
        "import numpy as np\n",
        "\n",
        "# Устанавливаем seed для воспроизводимости результатов\n",
        "np.random.seed(1000)\n",
        "\n",
        "# Создаем случайный целочисленный массив размера (10,10) элементов, принадлежащих отрезку [0,10]\n",
        "array = np.random.randint(0, 11, size=(10,10))\n",
        "\n",
        "# Центрируем и нормируем элементы в столбцах\n",
        "mean = np.mean(array, axis=0)\n",
        "std = np.std(array, axis=0)\n",
        "normalized_array = (array - mean) / std\n",
        "\n",
        "# Находим разброс полученных значений в полученной матрице\n",
        "range_ = np.ptp(normalized_array)\n",
        "\n",
        "print(\"Normalized array:\\n\", normalized_array)\n",
        "print(\"Range of values in the normalized array:\", range_)\n"
      ]
    },
    {
      "cell_type": "markdown",
      "metadata": {
        "id": "g5S0h2-wKfGE"
      },
      "source": [
        "## Задание 2"
      ]
    },
    {
      "cell_type": "markdown",
      "metadata": {
        "id": "orX7BUzcPKKf"
      },
      "source": [
        "**Условие:**\n",
        "Создайте случайный целочисленный массив ```ndarray``` размера ```(15,15)``` элементов, принадлежащих отрезку ```[0,10]```. С помощью методов булевых массивов найдите количество четных элементов в полученном массиве. Используйте ```np.random.seed(1000)``` перед генерацией массива для воспроизводимости результатов.\n",
        "\n",
        "**Формат ответа:**\n",
        "Число (например, ```56```)\n"
      ]
    },
    {
      "cell_type": "markdown",
      "metadata": {
        "id": "ESSLfwqEPKKn"
      },
      "source": [
        "**Решение:**"
      ]
    },
    {
      "cell_type": "code",
      "execution_count": null,
      "metadata": {
        "colab": {
          "base_uri": "https://localhost:8080/"
        },
        "id": "y8HOlaNLPKKq",
        "outputId": "022cced1-2462-477b-de8d-a11bfdb68797"
      },
      "outputs": [
        {
          "output_type": "stream",
          "name": "stdout",
          "text": [
            "Number of even elements: 124\n"
          ]
        }
      ],
      "source": [
        "import numpy as np\n",
        "\n",
        "# Устанавливаем seed для воспроизводимости результатов\n",
        "np.random.seed(1000)\n",
        "\n",
        "# Создаем случайный целочисленный массив размера (15,15) элементов, принадлежащих отрезку [0,10]\n",
        "array = np.random.randint(0, 11, size=(15,15))\n",
        "\n",
        "# Используем булевы массивы для поиска четных элементов\n",
        "even_elements = array[array % 2 == 0]\n",
        "\n",
        "# Находим количество четных элементов\n",
        "num_even_elements = even_elements.size\n",
        "\n",
        "print(\"Number of even elements:\", num_even_elements)\n"
      ]
    },
    {
      "cell_type": "markdown",
      "metadata": {
        "id": "tq0Fcrg1KfXQ"
      },
      "source": [
        "## Задание 3"
      ]
    },
    {
      "cell_type": "markdown",
      "metadata": {
        "id": "3xp-jyyHPMIb"
      },
      "source": [
        "**Условие:**\n",
        "Напишите функцию, которая принимает на вход квадратную матрицу и находит ее определитель. Если определитель отличен от нуля, то функция возвращает определитель матрицы, которая является обратной к транспанированной исходной матрице, иначе выдает ноль. Проверьте работоспособность на матрице, указанной в пункте решение.\n",
        "\n",
        "**Формат ответа:**\n",
        "Число (например, ```2.7```)\n",
        "\n",
        "\n"
      ]
    },
    {
      "cell_type": "markdown",
      "metadata": {
        "id": "H5ZlBsI2PMIi"
      },
      "source": [
        "**Решение:**"
      ]
    },
    {
      "cell_type": "code",
      "execution_count": null,
      "metadata": {
        "id": "6amsYUCoPMIn"
      },
      "outputs": [],
      "source": [
        "_INPUT_MATR_ = np.array([[2,5,7],\n",
        "                        [6,3,4],\n",
        "                        [5,-2,-3]])"
      ]
    },
    {
      "cell_type": "code",
      "execution_count": null,
      "metadata": {
        "id": "2IsoWN0glMYv"
      },
      "outputs": [],
      "source": []
    }
  ],
  "metadata": {
    "colab": {
      "provenance": []
    },
    "kernelspec": {
      "display_name": "Python 3 (ipykernel)",
      "language": "python",
      "name": "python3"
    },
    "language_info": {
      "codemirror_mode": {
        "name": "ipython",
        "version": 3
      },
      "file_extension": ".py",
      "mimetype": "text/x-python",
      "name": "python",
      "nbconvert_exporter": "python",
      "pygments_lexer": "ipython3",
      "version": "3.11.7"
    }
  },
  "nbformat": 4,
  "nbformat_minor": 0
}