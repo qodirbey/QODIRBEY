{
  "cells": [
    {
      "cell_type": "markdown",
      "metadata": {
        "id": "MH-3kVwvJYeP"
      },
      "source": [
        "\n",
        "# 3.2.5 Файловый ввод-вывод массивов"
      ]
    },
    {
      "cell_type": "markdown",
      "metadata": {
        "id": "gMwyKhlQJ1mf"
      },
      "source": [
        "## Задание 1"
      ]
    },
    {
      "cell_type": "markdown",
      "metadata": {
        "id": "Owu684lKKrjJ"
      },
      "source": [
        "**Условие:**\n",
        "Создайте массив ```ndarray``` размера ```(20,20)``` элементов, взятых из равномерного распределения на полуинтервале ```[0,1)```. Запишите данный массив в файл в бинарном и текстовом виде. Найдите абсолютное значение разности байтовых размеров полученных файлов. Используйте ```np.random.seed(1000)``` перед генерацией массива для воспроизводимости результатов.\n",
        "\n",
        "**Формат ответа:**\n",
        "Число (например, ```100```)\n",
        "\n"
      ]
    },
    {
      "cell_type": "markdown",
      "metadata": {
        "id": "OCTvo3fHLaaJ"
      },
      "source": [
        "**Решение:**"
      ]
    },
    {
      "cell_type": "code",
      "execution_count": null,
      "metadata": {
        "id": "f9_8IGndLeRO"
      },
      "outputs": [],
      "source": [
        "import numpy as np\n",
        "import os\n",
        "\n",
        "# Устанавливаем seed для воспроизводимости результатов\n",
        "np.random.seed(1000)\n",
        "\n",
        "# Создаем массив ndarray размера (20,20) элементов, взятых из равномерного распределения на полуинтервале [0,1)\n",
        "array = np.random.uniform(0, 1, (20, 20))\n",
        "\n",
        "# Записываем массив в файл в бинарном виде\n",
        "with open('binary_file', 'wb') as f:\n",
        "    np.save(f, array)\n",
        "\n",
        "# Записываем массив в файл в текстовом виде\n",
        "with open('text_file', 'w') as f:\n",
        "    np.savetxt(f, array)\n",
        "\n",
        "# Находим размеры файлов в байтах\n",
        "binary_size = os.path.getsize('binary_file')\n",
        "text_size = os.path.getsize('text_file')\n",
        "\n",
        "# Находим абсолютное значение разности байтовых размеров полученных файлов\n",
        "diff_size = abs(binary_size - text_size)\n",
        "\n",
        "print(f'Абсолютное значение разности байтовых размеров полученных файлов: {diff_size} байт')"
      ]
    },
    {
      "cell_type": "markdown",
      "metadata": {
        "id": "g5S0h2-wKfGE"
      },
      "source": [
        "## Задание 2"
      ]
    },
    {
      "cell_type": "markdown",
      "metadata": {
        "id": "orX7BUzcPKKf"
      },
      "source": [
        "**Условие:**\n",
        "Создайте массив ```ndarray``` размера ```100``` из элементов, взятых из стандартного нормального распределения. Запишите данный массив в файл в бинарном виде. Считайте массив из файла, с использованием целочисленного типа данных. Найдите абсолютное значение разности сумм элементов исходного массива и считанного из файла. Используйте ```np.random.seed(1000)``` перед генерацией массива для воспроизводимости результатов.\n",
        "\n",
        "**Формат ответа:**\n",
        "Число (например, ```102.4```)\n",
        "\n"
      ]
    },
    {
      "cell_type": "markdown",
      "metadata": {
        "id": "ESSLfwqEPKKn"
      },
      "source": [
        "**Решение:**"
      ]
    },
    {
      "cell_type": "code",
      "execution_count": null,
      "metadata": {
        "colab": {
          "base_uri": "https://localhost:8080/"
        },
        "id": "y8HOlaNLPKKq",
        "outputId": "9fc9136c-9f4d-4321-fd4d-1305dd6559fe"
      },
      "outputs": [
        {
          "output_type": "stream",
          "name": "stdout",
          "text": [
            "Абсолютное значение разности сумм элементов исходного массива и считанного из файла: 0.0\n"
          ]
        }
      ],
      "source": [
        "import numpy as np\n",
        "\n",
        "# Установка seed для воспроизводимости результатов\n",
        "np.random.seed(1000)\n",
        "\n",
        "# Создание массива размера 100 из элементов стандартного нормального распределения\n",
        "original_array = np.random.randn(100)\n",
        "\n",
        "# Запись массива в файл в бинарном виде\n",
        "with open('array.bin', 'wb') as f:\n",
        "    original_array.astype(np.float64).tofile(f)\n",
        "\n",
        "# Считывание массива из файла с использованием целочисленного типа данных\n",
        "with open('array.bin', 'rb') as f:\n",
        "    read_array = np.fromfile(f, dtype=np.float64)\n",
        "\n",
        "# Нахождение абсолютного значения разности сумм элементов исходного массива и считанного из файла\n",
        "diff_sum = np.abs(np.sum(original_array) - np.sum(read_array))\n",
        "\n",
        "print(\"Абсолютное значение разности сумм элементов исходного массива и считанного из файла:\", diff_sum)"
      ]
    },
    {
      "cell_type": "markdown",
      "metadata": {
        "id": "tq0Fcrg1KfXQ"
      },
      "source": [
        "## Задание 3"
      ]
    },
    {
      "cell_type": "markdown",
      "metadata": {
        "id": "3xp-jyyHPMIb"
      },
      "source": [
        "**Условие:**\n",
        "Напишите функцию, которая принимает на вход квадратную матрицу и находит ее определитель. Если определитель отличен от нуля, то функция возвращает определитель матрицы, которая является обратной к транспанированной исходной матрице, иначе выдает ноль. Проверьте работоспособность на матрице, указанной в пункте решение.\n",
        "\n",
        "**Формат ответа:**\n",
        "Число (например, ```2.7```)\n",
        "\n"
      ]
    },
    {
      "cell_type": "markdown",
      "metadata": {
        "id": "H5ZlBsI2PMIi"
      },
      "source": [
        "**Решение:**"
      ]
    },
    {
      "cell_type": "code",
      "execution_count": null,
      "metadata": {
        "id": "6amsYUCoPMIn"
      },
      "outputs": [],
      "source": [
        "import numpy as np\n",
        "\n",
        "def matrix_function(matrix):\n",
        "    # Находим определитель исходной матрицы\n",
        "    det = np.linalg.det(matrix)\n",
        "\n",
        "    if det != 0:\n",
        "        # Находим обратную матрицу к транспанированной исходной матрице\n",
        "        inverse_transposed = np.linalg.inv(matrix.T)\n",
        "\n",
        "        # Возвращаем определитель обратной матрицы\n",
        "        return np.linalg.det(inverse_transposed)\n",
        "    else:\n",
        "        return 0"
      ]
    },
    {
      "cell_type": "code",
      "execution_count": null,
      "metadata": {
        "id": "2IsoWN0glMYv"
      },
      "outputs": [],
      "source": []
    }
  ],
  "metadata": {
    "colab": {
      "provenance": []
    },
    "kernelspec": {
      "display_name": "Python 3 (ipykernel)",
      "language": "python",
      "name": "python3"
    },
    "language_info": {
      "codemirror_mode": {
        "name": "ipython",
        "version": 3
      },
      "file_extension": ".py",
      "mimetype": "text/x-python",
      "name": "python",
      "nbconvert_exporter": "python",
      "pygments_lexer": "ipython3",
      "version": "3.11.7"
    }
  },
  "nbformat": 4,
  "nbformat_minor": 0
}