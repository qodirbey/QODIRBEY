{
 "cells": [
  {
   "cell_type": "markdown",
   "metadata": {
    "colab_type": "text",
    "id": "MH-3kVwvJYeP"
   },
   "source": [
    "# 2.4 Управляющие структуры. Условные ветвления и циклы"
   ]
  },
  {
   "cell_type": "markdown",
   "metadata": {
    "colab_type": "text",
    "id": "gMwyKhlQJ1mf"
   },
   "source": [
    "## Задание 1"
   ]
  },
  {
   "cell_type": "markdown",
   "metadata": {
    "colab_type": "text",
    "id": "Owu684lKKrjJ"
   },
   "source": [
    "**Условие:** \n",
    "Вычислить сумму ряда чисел $1/1^2 + 1/2^2 + 1/3^2 + … + 1/n^2$, где $n$ определяется пользователем. Дайте ответ для $n = 50$. Используйте циклы.\n",
    "\n",
    "**Формат ответа:** \n",
    "Число (например, ```0.75```)\n"
   ]
  },
  {
   "cell_type": "markdown",
   "metadata": {
    "colab_type": "text",
    "id": "OCTvo3fHLaaJ"
   },
   "source": [
    "**Решение:**"
   ]
  },
  {
   "cell_type": "code",
   "execution_count": null,
   "metadata": {
    "colab": {},
    "colab_type": "code",
    "id": "f9_8IGndLeRO"
   },
   "outputs": [],
   "source": []
  },
  {
   "cell_type": "markdown",
   "metadata": {
    "colab_type": "text",
    "id": "g5S0h2-wKfGE"
   },
   "source": [
    "## Задание 2"
   ]
  },
  {
   "cell_type": "markdown",
   "metadata": {
    "colab_type": "text",
    "id": "orX7BUzcPKKf"
   },
   "source": [
    "**Условие:** \n",
    "Найдите сумму всех натуральных делителей введенного пользователем натурального числа. В ответе укажите результат для числа ```5120```. Используйте циклы и условные выражения.\n",
    "\n",
    "**Формат ответа:** Целое цисло (например, ```75```)"
   ]
  },
  {
   "cell_type": "markdown",
   "metadata": {
    "colab_type": "text",
    "id": "ESSLfwqEPKKn"
   },
   "source": [
    "**Решение:**"
   ]
  },
  {
   "cell_type": "code",
   "execution_count": null,
   "metadata": {
    "colab": {},
    "colab_type": "code",
    "id": "y8HOlaNLPKKq"
   },
   "outputs": [],
   "source": []
  },
  {
   "cell_type": "markdown",
   "metadata": {
    "colab_type": "text",
    "id": "tq0Fcrg1KfXQ"
   },
   "source": [
    "## Задание 3"
   ]
  },
  {
   "cell_type": "markdown",
   "metadata": {
    "colab_type": "text",
    "id": "3xp-jyyHPMIb"
   },
   "source": [
    "**Условие:** Создайте игру, в которой пользователь должен угадать заранее случайным образом выбранное целое число от 1 до 10. Используйте модуль ```random``` и цикл ```while```. Не забудьте поставить условие выхода, например, при вводе символа *. Сыграйте с машиной в эту игру 3 раза и укажите среднее значение попыток до успешного угадывания.\n",
    "\n",
    "**Формат ответа:** Число (например, ```7```)\n"
   ]
  },
  {
   "cell_type": "markdown",
   "metadata": {
    "colab_type": "text",
    "id": "H5ZlBsI2PMIi"
   },
   "source": [
    "**Решение:**"
   ]
  },
  {
   "cell_type": "code",
   "execution_count": null,
   "metadata": {
    "colab": {},
    "colab_type": "code",
    "id": "6amsYUCoPMIn"
   },
   "outputs": [],
   "source": []
  }
 ],
 "metadata": {
  "colab": {
   "collapsed_sections": [],
   "name": "ДЗ-2.4-Light.ipynb",
   "provenance": []
  },
  "kernelspec": {
   "display_name": "Python 3 (ipykernel)",
   "language": "python",
   "name": "python3"
  },
  "language_info": {
   "codemirror_mode": {
    "name": "ipython",
    "version": 3
   },
   "file_extension": ".py",
   "mimetype": "text/x-python",
   "name": "python",
   "nbconvert_exporter": "python",
   "pygments_lexer": "ipython3",
   "version": "3.11.7"
  }
 },
 "nbformat": 4,
 "nbformat_minor": 4
}
