{
  "cells": [
    {
      "cell_type": "markdown",
      "metadata": {
        "id": "MH-3kVwvJYeP"
      },
      "source": [
        "\n",
        "# 3.2.2 Индексирование и вырезание"
      ]
    },
    {
      "cell_type": "markdown",
      "metadata": {
        "id": "gMwyKhlQJ1mf"
      },
      "source": [
        "## Задание 1"
      ]
    },
    {
      "cell_type": "markdown",
      "metadata": {
        "id": "4Kp0NV3wqb8F"
      },
      "source": [
        "Конечно, давайте создадим аналогичную задачу без использования изображения.\n",
        "\n",
        "**Условие:**\n",
        "Создайте целочисленный массив `ndarray` размера `(3,3)`. Представьте, что каждый элемент этого массива находится на черной позиции, как показано на следующей схеме:\n",
        "\n",
        "```\n",
        "B  W  B\n",
        "W  B  W\n",
        "B  W  B\n",
        "```\n",
        "\n",
        "Теперь, используя индексы элементов на черных позициях (B), выполните 4 выборки элементов согласно следующим выражениям:\n",
        "\n",
        "1. Выборка элементов с индексами `(0, 0)`, `(1, 1)`, `(2, 2)`.\n",
        "2. Выборка элементов с индексами `(0, 2)`, `(1, 1)`, `(2, 0)`.\n",
        "3. Выборка элементов с индексами `(0, 1)`, `(1, 1)`, `(2, 1)`.\n",
        "4. Выборка элементов с индексами `(1, 0)`, `(1, 1)`, `(1, 2)`.\n",
        "\n",
        "Найдите максимальное значение в каждой из полученных выборок.\n",
        "\n",
        "**Формат ответа:**\n",
        "Кортеж чисел (например, `(3, 5, 2, 6)`)."
      ]
    },
    {
      "cell_type": "markdown",
      "metadata": {
        "id": "OCTvo3fHLaaJ"
      },
      "source": [
        "**Решение:**"
      ]
    },
    {
      "cell_type": "code",
      "execution_count": null,
      "metadata": {
        "id": "f9_8IGndLeRO"
      },
      "outputs": [],
      "source": [
        "import numpy as np\n",
        "\n",
        "# Создаем целочисленный массив размера (3,3) с черными и белыми позициями\n",
        "array = np.array([[7, 0, 7],\n",
        "                  [0, 7, 0],\n",
        "                  [7, 0, 7]])\n",
        "\n",
        "# Создаем массив индексов черных позиций\n",
        "black_indices = np.argwhere(array == 1)\n",
        "\n",
        "# Печатаем массив с черными позициями\n",
        "print(\"Массив с черными позициями:\")\n",
        "print(array)\n",
        "\n",
        "# Выборка элементов по заданным индексам и нахождение максимального значения\n",
        "result = (array[0,0], array[1,1], array[2,2]), (array[0,2], array[1,1], array[2,0]), \\\n",
        "         (array[0,1], array[1,1], array[2,1]), (array[1,0], array[1,1], array[1,2])\n",
        "\n",
        "# Находим максимальное значение в каждой выборке\n",
        "max_values = tuple([max(samples) for samples in result])\n",
        "\n",
        "max_values"
      ]
    },
    {
      "cell_type": "markdown",
      "metadata": {
        "id": "g5S0h2-wKfGE"
      },
      "source": [
        "## Задание 2"
      ]
    },
    {
      "cell_type": "markdown",
      "metadata": {
        "id": "orX7BUzcPKKf"
      },
      "source": [
        "**Условие:**\n",
        "Создайте случайный целочисленный массив ```ndarray``` из ```100``` элементов, принадлежащих отрезку ```[0,10]```. С помощью булевой индексации найдите все четные элементы в массиве. Найдите сумму полученных элементов. Используйте ```np.random.seed(1000)``` перед генерацией массива для воспроизводимости результатов.\n",
        "\n",
        "**Формат ответа:**\n",
        "Число (например, ```56```)\n",
        "\n",
        "**Оценка в баллах:** 3 балла"
      ]
    },
    {
      "cell_type": "markdown",
      "metadata": {
        "id": "ESSLfwqEPKKn"
      },
      "source": [
        "**Решение:**"
      ]
    },
    {
      "cell_type": "code",
      "execution_count": null,
      "metadata": {
        "colab": {
          "base_uri": "https://localhost:8080/"
        },
        "id": "y8HOlaNLPKKq",
        "outputId": "212f92ce-9727-49d2-d5ce-b0cffb07604a"
      },
      "outputs": [
        {
          "output_type": "execute_result",
          "data": {
            "text/plain": [
              "266"
            ]
          },
          "metadata": {},
          "execution_count": 1
        }
      ],
      "source": [
        "import numpy as np\n",
        "\n",
        "# Устанавливаем seed для воспроизводимости результатов\n",
        "np.random.seed(1000)\n",
        "\n",
        "# Создаем случайный целочисленный массив ndarray из 100 элементов, принадлежащих отрезку [0,10]\n",
        "arr = np.random.randint(0, 11, 100)\n",
        "\n",
        "# Используем булеву индексацию для поиска всех четных элементов в массиве\n",
        "even_elements = arr[arr % 2 == 0]\n",
        "\n",
        "# Находим сумму полученных элементов\n",
        "sum_of_elements = even_elements.sum()\n",
        "\n",
        "sum_of_elements"
      ]
    },
    {
      "cell_type": "markdown",
      "metadata": {
        "id": "tq0Fcrg1KfXQ"
      },
      "source": [
        "## Задание 3"
      ]
    },
    {
      "cell_type": "markdown",
      "metadata": {
        "id": "3xp-jyyHPMIb"
      },
      "source": [
        "**Условие:**\n",
        "Создайте случайный целочисленный массив ndarray размера ```(10,10)``` элементов, принадлежащих отрезку ```[0,10]```. Сделайте подвыборку по всем строкам с нечетным индексом. Найдите сумму всех элементов в полученной матрице. Используйте ```np.random.seed(1000)``` перед генерацией массива для воспроизводимости результатов.\n",
        "\n",
        "**Формат ответа:**\n",
        "Число (например, ```150```)\n",
        "\n",
        "**Оценка в баллах:** 4 балла\n"
      ]
    },
    {
      "cell_type": "markdown",
      "metadata": {
        "id": "H5ZlBsI2PMIi"
      },
      "source": [
        "**Решение:**"
      ]
    },
    {
      "cell_type": "code",
      "execution_count": null,
      "metadata": {
        "colab": {
          "base_uri": "https://localhost:8080/"
        },
        "id": "6amsYUCoPMIn",
        "outputId": "fa8369a7-d85a-4d6b-cd7f-de769e7003d2"
      },
      "outputs": [
        {
          "output_type": "execute_result",
          "data": {
            "text/plain": [
              "253"
            ]
          },
          "metadata": {},
          "execution_count": 2
        }
      ],
      "source": [
        "import numpy as np\n",
        "\n",
        "# Устанавливаем seed для воспроизводимости результатов\n",
        "np.random.seed(1000)\n",
        "\n",
        "# Создаем случайный целочисленный массив ndarray размера (10,10) элементов, принадлежащих отрезку [0,10]\n",
        "arr = np.random.randint(0, 11, (10, 10))\n",
        "\n",
        "# Сделаем подвыборку по всем строкам с нечетным индексом\n",
        "sub_arr = arr[1::2]\n",
        "\n",
        "# Находим сумму всех элементов в полученной матрице\n",
        "sum_of_elements = sub_arr.sum()\n",
        "\n",
        "sum_of_elements"
      ]
    }
  ],
  "metadata": {
    "colab": {
      "provenance": []
    },
    "kernelspec": {
      "display_name": "Python 3 (ipykernel)",
      "language": "python",
      "name": "python3"
    },
    "language_info": {
      "codemirror_mode": {
        "name": "ipython",
        "version": 3
      },
      "file_extension": ".py",
      "mimetype": "text/x-python",
      "name": "python",
      "nbconvert_exporter": "python",
      "pygments_lexer": "ipython3",
      "version": "3.11.7"
    }
  },
  "nbformat": 4,
  "nbformat_minor": 0
}